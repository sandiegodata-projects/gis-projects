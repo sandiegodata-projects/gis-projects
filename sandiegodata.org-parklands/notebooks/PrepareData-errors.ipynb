{
 "cells": [
  {
   "cell_type": "code",
   "execution_count": 1,
   "metadata": {
    "": true,
    "prolog": true
   },
   "outputs": [],
   "source": [
    "#2018-11-14 10:46:17.448923\n",
    "%load_ext metapack.jupyter.magic"
   ]
  },
  {
   "cell_type": "code",
   "execution_count": 2,
   "metadata": {
    "": true,
    "prolog": true
   },
   "outputs": [],
   "source": [
    "CACHE_DIR='/Users/eric/Library/Application Support/metapack/'\n",
    "RESOURCE_NAME='parklands'\n",
    "RESOLVED_URL='file:///Users/eric/proj/virt-proj/data-project/gis-projects/sandiegodata.org-parklands/notebooks/PrepareData.ipynb#hpi'\n",
    "WORKING_DIR='/Users/eric/proj/virt-proj/data-project/gis-projects/sandiegodata.org-parklands'\n",
    "METATAB_DOC='metapack+file:///Users/eric/proj/virt-proj/data-project/gis-projects/sandiegodata.org-parklands/metadata.csv'\n",
    "METATAB_WORKING_DIR='/Users/eric/proj/virt-proj/data-project/gis-projects/sandiegodata.org-parklands'\n",
    "METATAB_PACKAGE='metapack+file:///Users/eric/proj/virt-proj/data-project/gis-projects/sandiegodata.org-parklands/'\n",
    "name='parklands'\n",
    "description=''\n",
    "url='notebooks/PrepareData.ipynb#hpi'"
   ]
  },
  {
   "cell_type": "code",
   "execution_count": 3,
   "metadata": {
    "": true,
    "prolog": true
   },
   "outputs": [],
   "source": [
    "METAPACK_BUILDING=True"
   ]
  },
  {
   "cell_type": "code",
   "execution_count": 4,
   "metadata": {},
   "outputs": [],
   "source": [
    "import seaborn as sns\n",
    "import metapack as mp\n",
    "import pandas as pd\n",
    "import numpy as np\n",
    "import matplotlib.pyplot as plt\n",
    "from IPython.display import display \n",
    "\n",
    "%matplotlib inline\n",
    "sns.set_context('notebook')\n"
   ]
  },
  {
   "cell_type": "code",
   "execution_count": 5,
   "metadata": {},
   "outputs": [
    {
     "ename": "MetatabFileNotFound",
     "evalue": "Failed to get Metatabfile for reference: 'metapack+file:///Users/eric/proj/virt-proj/data-project/gis-projects/sandiegodata.org-parklands/_packages/sandiegodata.org-parklands-1/metadata.csv' ",
     "output_type": "error",
     "traceback": [
      "\u001b[0;31m---------------------------------------------------------------------------\u001b[0m",
      "\u001b[0;31mKeyError\u001b[0m                                  Traceback (most recent call last)",
      "\u001b[0;32m~/proj/virt-proj/metapack/metapack-dev/metapack/metapack/jupyter/ipython.py\u001b[0m in \u001b[0;36mopen_package\u001b[0;34m(locals, dr)\u001b[0m\n\u001b[1;32m     54\u001b[0m         \u001b[0;31m# Running in a package build\u001b[0m\u001b[0;34m\u001b[0m\u001b[0;34m\u001b[0m\u001b[0m\n\u001b[0;32m---> 55\u001b[0;31m         \u001b[0;32mreturn\u001b[0m \u001b[0mop\u001b[0m\u001b[0;34m(\u001b[0m\u001b[0mlocals\u001b[0m\u001b[0;34m[\u001b[0m\u001b[0;34m'metatab_doc'\u001b[0m\u001b[0;34m]\u001b[0m\u001b[0;34m)\u001b[0m\u001b[0;34m\u001b[0m\u001b[0m\n\u001b[0m\u001b[1;32m     56\u001b[0m \u001b[0;34m\u001b[0m\u001b[0m\n",
      "\u001b[0;31mKeyError\u001b[0m: 'metatab_doc'",
      "\nDuring handling of the above exception, another exception occurred:\n",
      "\u001b[0;31mFileNotFoundError\u001b[0m                         Traceback (most recent call last)",
      "\u001b[0;32m~/proj/virt-proj/metapack/metapack-dev/rowgenerators/rowgenerators/core.py\u001b[0m in \u001b[0;36mget_generator\u001b[0;34m(source, **kwargs)\u001b[0m\n\u001b[1;32m     80\u001b[0m     \u001b[0;32mtry\u001b[0m\u001b[0;34m:\u001b[0m\u001b[0;34m\u001b[0m\u001b[0m\n\u001b[0;32m---> 81\u001b[0;31m         \u001b[0;32mreturn\u001b[0m \u001b[0mclasses\u001b[0m\u001b[0;34m[\u001b[0m\u001b[0;36m0\u001b[0m\u001b[0;34m]\u001b[0m\u001b[0;34m(\u001b[0m\u001b[0mref\u001b[0m\u001b[0;34m,\u001b[0m \u001b[0;34m**\u001b[0m\u001b[0mkwargs\u001b[0m\u001b[0;34m)\u001b[0m\u001b[0;34m\u001b[0m\u001b[0m\n\u001b[0m\u001b[1;32m     82\u001b[0m     \u001b[0;32mexcept\u001b[0m \u001b[0mNotImplementedError\u001b[0m\u001b[0;34m:\u001b[0m\u001b[0;34m\u001b[0m\u001b[0m\n",
      "\u001b[0;32m~/proj/virt-proj/metapack/metapack-dev/rowgenerators/rowgenerators/generator/csv.py\u001b[0m in \u001b[0;36m__init__\u001b[0;34m(self, ref, cache, working_dir, env, **kwargs)\u001b[0m\n\u001b[1;32m     21\u001b[0m         \u001b[0;32mif\u001b[0m \u001b[0;32mnot\u001b[0m \u001b[0mself\u001b[0m\u001b[0;34m.\u001b[0m\u001b[0murl\u001b[0m\u001b[0;34m.\u001b[0m\u001b[0mexists\u001b[0m\u001b[0;34m(\u001b[0m\u001b[0;34m)\u001b[0m\u001b[0;34m:\u001b[0m\u001b[0;34m\u001b[0m\u001b[0m\n\u001b[0;32m---> 22\u001b[0;31m             \u001b[0;32mraise\u001b[0m \u001b[0mFileNotFoundError\u001b[0m\u001b[0;34m(\u001b[0m\u001b[0mself\u001b[0m\u001b[0;34m.\u001b[0m\u001b[0murl\u001b[0m\u001b[0;34m)\u001b[0m\u001b[0;34m\u001b[0m\u001b[0m\n\u001b[0m\u001b[1;32m     23\u001b[0m \u001b[0;34m\u001b[0m\u001b[0m\n",
      "\u001b[0;31mFileNotFoundError\u001b[0m: file:///Users/eric/proj/virt-proj/data-project/gis-projects/sandiegodata.org-parklands/_packages/sandiegodata.org-parklands-1/metadata.csv",
      "\nThe above exception was the direct cause of the following exception:\n",
      "\u001b[0;31mRowGeneratorError\u001b[0m                         Traceback (most recent call last)",
      "\u001b[0;32m~/proj/virt-proj/metapack/metapack-dev/metapack/metapack/doc.py\u001b[0m in \u001b[0;36m__init__\u001b[0;34m(self, ref, decl, cache, resolver, package_url, clean_cache, downloader)\u001b[0m\n\u001b[1;32m     67\u001b[0m         \u001b[0;32mtry\u001b[0m\u001b[0;34m:\u001b[0m\u001b[0;34m\u001b[0m\u001b[0m\n\u001b[0;32m---> 68\u001b[0;31m             \u001b[0msuper\u001b[0m\u001b[0;34m(\u001b[0m\u001b[0;34m)\u001b[0m\u001b[0;34m.\u001b[0m\u001b[0m__init__\u001b[0m\u001b[0;34m(\u001b[0m\u001b[0mref\u001b[0m\u001b[0;34m,\u001b[0m \u001b[0mdecl\u001b[0m\u001b[0;34m,\u001b[0m \u001b[0mpackage_url\u001b[0m\u001b[0;34m,\u001b[0m \u001b[0mcache\u001b[0m\u001b[0;34m,\u001b[0m \u001b[0mresolver\u001b[0m\u001b[0;34m,\u001b[0m \u001b[0mclean_cache\u001b[0m\u001b[0;34m)\u001b[0m\u001b[0;34m\u001b[0m\u001b[0m\n\u001b[0m\u001b[1;32m     69\u001b[0m         \u001b[0;32mexcept\u001b[0m \u001b[0mRowGeneratorError\u001b[0m \u001b[0;32mas\u001b[0m \u001b[0me\u001b[0m\u001b[0;34m:\u001b[0m\u001b[0;34m\u001b[0m\u001b[0m\n",
      "\u001b[0;32m~/proj/virt-proj/metapack/metapack-dev/metatab/metatab/doc.py\u001b[0m in \u001b[0;36m__init__\u001b[0;34m(self, ref, decl, package_url, cache, resolver, clean_cache)\u001b[0m\n\u001b[1;32m     77\u001b[0m             \u001b[0;32mtry\u001b[0m\u001b[0;34m:\u001b[0m\u001b[0;34m\u001b[0m\u001b[0m\n\u001b[0;32m---> 78\u001b[0;31m                 \u001b[0mself\u001b[0m\u001b[0;34m.\u001b[0m\u001b[0mload_terms\u001b[0m\u001b[0;34m(\u001b[0m\u001b[0mself\u001b[0m\u001b[0;34m.\u001b[0m\u001b[0m_term_parser\u001b[0m\u001b[0;34m)\u001b[0m\u001b[0;34m\u001b[0m\u001b[0m\n\u001b[0m\u001b[1;32m     79\u001b[0m             \u001b[0;32mexcept\u001b[0m \u001b[0mSourceError\u001b[0m \u001b[0;32mas\u001b[0m \u001b[0me\u001b[0m\u001b[0;34m:\u001b[0m\u001b[0;34m\u001b[0m\u001b[0m\n",
      "\u001b[0;32m~/proj/virt-proj/metapack/metapack-dev/metatab/metatab/doc.py\u001b[0m in \u001b[0;36mload_terms\u001b[0;34m(self, terms)\u001b[0m\n\u001b[1;32m    467\u001b[0m \u001b[0;34m\u001b[0m\u001b[0m\n\u001b[0;32m--> 468\u001b[0;31m         \u001b[0;32mfor\u001b[0m \u001b[0mt\u001b[0m \u001b[0;32min\u001b[0m \u001b[0mterms\u001b[0m\u001b[0;34m:\u001b[0m\u001b[0;34m\u001b[0m\u001b[0m\n\u001b[0m\u001b[1;32m    469\u001b[0m \u001b[0;34m\u001b[0m\u001b[0m\n",
      "\u001b[0;32m~/proj/virt-proj/metapack/metapack-dev/metatab/metatab/parser.py\u001b[0m in \u001b[0;36m__iter__\u001b[0;34m(self)\u001b[0m\n\u001b[1;32m    430\u001b[0m \u001b[0;34m\u001b[0m\u001b[0m\n\u001b[0;32m--> 431\u001b[0;31m             \u001b[0;32mfor\u001b[0m \u001b[0mi\u001b[0m\u001b[0;34m,\u001b[0m \u001b[0mt\u001b[0m \u001b[0;32min\u001b[0m \u001b[0menumerate\u001b[0m\u001b[0;34m(\u001b[0m\u001b[0mself\u001b[0m\u001b[0;34m.\u001b[0m\u001b[0mgenerate_terms\u001b[0m\u001b[0;34m(\u001b[0m\u001b[0mtarget\u001b[0m\u001b[0;34m,\u001b[0m \u001b[0mself\u001b[0m\u001b[0;34m.\u001b[0m\u001b[0mroot\u001b[0m\u001b[0;34m)\u001b[0m\u001b[0;34m)\u001b[0m\u001b[0;34m:\u001b[0m\u001b[0;34m\u001b[0m\u001b[0m\n\u001b[0m\u001b[1;32m    432\u001b[0m \u001b[0;34m\u001b[0m\u001b[0m\n",
      "\u001b[0;32m~/proj/virt-proj/metapack/metapack-dev/metatab/metatab/parser.py\u001b[0m in \u001b[0;36mgenerate_terms\u001b[0;34m(self, ref, root, file_type)\u001b[0m\n\u001b[1;32m    318\u001b[0m         \u001b[0;32melse\u001b[0m\u001b[0;34m:\u001b[0m\u001b[0;34m\u001b[0m\u001b[0m\n\u001b[0;32m--> 319\u001b[0;31m             \u001b[0mrow_gen\u001b[0m \u001b[0;34m=\u001b[0m \u001b[0mget_generator\u001b[0m\u001b[0;34m(\u001b[0m\u001b[0mref\u001b[0m\u001b[0;34m)\u001b[0m\u001b[0;34m\u001b[0m\u001b[0m\n\u001b[0m\u001b[1;32m    320\u001b[0m             \u001b[0mref_path\u001b[0m \u001b[0;34m=\u001b[0m \u001b[0mref\u001b[0m\u001b[0;34m.\u001b[0m\u001b[0mpath\u001b[0m\u001b[0;34m\u001b[0m\u001b[0m\n",
      "\u001b[0;32m~/proj/virt-proj/metapack/metapack-dev/rowgenerators/rowgenerators/core.py\u001b[0m in \u001b[0;36mget_generator\u001b[0;34m(source, **kwargs)\u001b[0m\n\u001b[1;32m     84\u001b[0m     \u001b[0;32mexcept\u001b[0m \u001b[0mException\u001b[0m \u001b[0;32mas\u001b[0m \u001b[0me\u001b[0m\u001b[0;34m:\u001b[0m\u001b[0;34m\u001b[0m\u001b[0m\n\u001b[0;32m---> 85\u001b[0;31m         \u001b[0;32mraise\u001b[0m \u001b[0mRowGeneratorError\u001b[0m\u001b[0;34m(\u001b[0m\u001b[0;34m\"Failed to instantiate generator for class '{}', ref '{}'\"\u001b[0m\u001b[0;34m.\u001b[0m\u001b[0mformat\u001b[0m\u001b[0;34m(\u001b[0m\u001b[0mclasses\u001b[0m\u001b[0;34m[\u001b[0m\u001b[0;36m0\u001b[0m\u001b[0;34m]\u001b[0m\u001b[0;34m,\u001b[0m \u001b[0mref\u001b[0m\u001b[0;34m)\u001b[0m\u001b[0;34m)\u001b[0m \u001b[0;32mfrom\u001b[0m \u001b[0me\u001b[0m\u001b[0;34m\u001b[0m\u001b[0m\n\u001b[0m\u001b[1;32m     86\u001b[0m \u001b[0;34m\u001b[0m\u001b[0m\n",
      "\u001b[0;31mRowGeneratorError\u001b[0m: Failed to instantiate generator for class '<class 'rowgenerators.generator.csv.CsvSource'>', ref 'file:///Users/eric/proj/virt-proj/data-project/gis-projects/sandiegodata.org-parklands/_packages/sandiegodata.org-parklands-1/metadata.csv'",
      "\nDuring handling of the above exception, another exception occurred:\n",
      "\u001b[0;31mMetatabFileNotFound\u001b[0m                       Traceback (most recent call last)",
      "\u001b[0;32m<ipython-input-5-e701e6630d24>\u001b[0m in \u001b[0;36m<module>\u001b[0;34m\u001b[0m\n\u001b[0;32m----> 1\u001b[0;31m \u001b[0mpkg\u001b[0m \u001b[0;34m=\u001b[0m \u001b[0mmp\u001b[0m\u001b[0;34m.\u001b[0m\u001b[0mjupyter\u001b[0m\u001b[0;34m.\u001b[0m\u001b[0mopen_package\u001b[0m\u001b[0;34m(\u001b[0m\u001b[0;34m)\u001b[0m\u001b[0;34m\u001b[0m\u001b[0m\n\u001b[0m\u001b[1;32m      2\u001b[0m \u001b[0;31m#pkg = mp.jupyter.open_source_package()\u001b[0m\u001b[0;34m\u001b[0m\u001b[0;34m\u001b[0m\u001b[0m\n\u001b[1;32m      3\u001b[0m \u001b[0mpkg\u001b[0m\u001b[0;34m\u001b[0m\u001b[0m\n",
      "\u001b[0;32m~/proj/virt-proj/metapack/metapack-dev/metapack/metapack/jupyter/ipython.py\u001b[0m in \u001b[0;36mopen_package\u001b[0;34m(locals, dr)\u001b[0m\n\u001b[1;32m     87\u001b[0m             \u001b[0mbuilt_package\u001b[0m \u001b[0;34m=\u001b[0m \u001b[0mjoin\u001b[0m\u001b[0;34m(\u001b[0m\u001b[0mbuild_package_dir\u001b[0m\u001b[0;34m,\u001b[0m \u001b[0mpackage_name\u001b[0m\u001b[0;34m)\u001b[0m\u001b[0;34m\u001b[0m\u001b[0m\n\u001b[1;32m     88\u001b[0m             \u001b[0;32mtry\u001b[0m\u001b[0;34m:\u001b[0m\u001b[0;34m\u001b[0m\u001b[0m\n\u001b[0;32m---> 89\u001b[0;31m                 \u001b[0;32mreturn\u001b[0m \u001b[0mop\u001b[0m\u001b[0;34m(\u001b[0m\u001b[0mbuilt_package\u001b[0m\u001b[0;34m)\u001b[0m\u001b[0;34m\u001b[0m\u001b[0m\n\u001b[0m\u001b[1;32m     90\u001b[0m             \u001b[0;32mexcept\u001b[0m \u001b[0mRowGeneratorError\u001b[0m \u001b[0;32mas\u001b[0m \u001b[0me\u001b[0m\u001b[0;34m:\u001b[0m\u001b[0;34m\u001b[0m\u001b[0m\n\u001b[1;32m     91\u001b[0m                 \u001b[0;32mpass\u001b[0m  \u001b[0;31m# Probably could not open the metadata file.\u001b[0m\u001b[0;34m\u001b[0m\u001b[0m\n",
      "\u001b[0;32m~/proj/virt-proj/metapack/metapack-dev/metapack/metapack/package/core.py\u001b[0m in \u001b[0;36mopen_package\u001b[0;34m(ref, downloader)\u001b[0m\n\u001b[1;32m    653\u001b[0m         \u001b[0mu\u001b[0m \u001b[0;34m=\u001b[0m \u001b[0mMetapackUrl\u001b[0m\u001b[0;34m(\u001b[0m\u001b[0mref\u001b[0m\u001b[0;34m,\u001b[0m \u001b[0mdownloader\u001b[0m\u001b[0;34m=\u001b[0m\u001b[0mdownloader\u001b[0m\u001b[0;34m)\u001b[0m\u001b[0;34m\u001b[0m\u001b[0m\n\u001b[1;32m    654\u001b[0m \u001b[0;34m\u001b[0m\u001b[0m\n\u001b[0;32m--> 655\u001b[0;31m         \u001b[0mresource\u001b[0m \u001b[0;34m=\u001b[0m \u001b[0mu\u001b[0m\u001b[0;34m.\u001b[0m\u001b[0mresource\u001b[0m\u001b[0;34m\u001b[0m\u001b[0m\n\u001b[0m\u001b[1;32m    656\u001b[0m \u001b[0;34m\u001b[0m\u001b[0m\n\u001b[1;32m    657\u001b[0m     \u001b[0mp\u001b[0m \u001b[0;34m=\u001b[0m \u001b[0mMetapackDoc\u001b[0m\u001b[0;34m(\u001b[0m\u001b[0mu\u001b[0m\u001b[0;34m,\u001b[0m \u001b[0mdownloader\u001b[0m\u001b[0;34m=\u001b[0m\u001b[0mdownloader\u001b[0m\u001b[0;34m)\u001b[0m\u001b[0;34m\u001b[0m\u001b[0m\n",
      "\u001b[0;32m~/proj/virt-proj/metapack/metapack-dev/metapack/metapack/appurl.py\u001b[0m in \u001b[0;36mresource\u001b[0;34m(self)\u001b[0m\n\u001b[1;32m    184\u001b[0m         \u001b[0;34m\"\"\"Return the Metapack resource, different from the URL resource returned by get_resource\"\"\"\u001b[0m\u001b[0;34m\u001b[0m\u001b[0m\n\u001b[1;32m    185\u001b[0m \u001b[0;34m\u001b[0m\u001b[0m\n\u001b[0;32m--> 186\u001b[0;31m         \u001b[0mr\u001b[0m \u001b[0;34m=\u001b[0m \u001b[0mself\u001b[0m\u001b[0;34m.\u001b[0m\u001b[0mdoc\u001b[0m\u001b[0;34m.\u001b[0m\u001b[0mresource\u001b[0m\u001b[0;34m(\u001b[0m\u001b[0mself\u001b[0m\u001b[0;34m.\u001b[0m\u001b[0mfragment\u001b[0m\u001b[0;34m[\u001b[0m\u001b[0;36m0\u001b[0m\u001b[0;34m]\u001b[0m\u001b[0;34m)\u001b[0m\u001b[0;34m\u001b[0m\u001b[0m\n\u001b[0m\u001b[1;32m    187\u001b[0m         \u001b[0;32mreturn\u001b[0m \u001b[0mr\u001b[0m\u001b[0;34m\u001b[0m\u001b[0m\n\u001b[1;32m    188\u001b[0m \u001b[0;34m\u001b[0m\u001b[0m\n",
      "\u001b[0;32m~/proj/virt-proj/metapack/metapack-dev/metapack/metapack/appurl.py\u001b[0m in \u001b[0;36mdoc\u001b[0;34m(self)\u001b[0m\n\u001b[1;32m    113\u001b[0m         \u001b[0;32mfrom\u001b[0m \u001b[0mmetapack\u001b[0m \u001b[0;32mimport\u001b[0m \u001b[0mMetapackDoc\u001b[0m\u001b[0;34m\u001b[0m\u001b[0m\n\u001b[1;32m    114\u001b[0m         \u001b[0mt\u001b[0m \u001b[0;34m=\u001b[0m \u001b[0mself\u001b[0m\u001b[0;34m.\u001b[0m\u001b[0mget_resource\u001b[0m\u001b[0;34m(\u001b[0m\u001b[0;34m)\u001b[0m\u001b[0;34m.\u001b[0m\u001b[0mget_target\u001b[0m\u001b[0;34m(\u001b[0m\u001b[0;34m)\u001b[0m\u001b[0;34m\u001b[0m\u001b[0m\n\u001b[0;32m--> 115\u001b[0;31m         \u001b[0;32mreturn\u001b[0m \u001b[0mMetapackDoc\u001b[0m\u001b[0;34m(\u001b[0m\u001b[0mt\u001b[0m\u001b[0;34m,\u001b[0m \u001b[0mpackage_url\u001b[0m\u001b[0;34m=\u001b[0m\u001b[0mself\u001b[0m\u001b[0;34m.\u001b[0m\u001b[0mpackage_url\u001b[0m\u001b[0;34m)\u001b[0m\u001b[0;34m\u001b[0m\u001b[0m\n\u001b[0m\u001b[1;32m    116\u001b[0m \u001b[0;34m\u001b[0m\u001b[0m\n\u001b[1;32m    117\u001b[0m     \u001b[0;34m@\u001b[0m\u001b[0mproperty\u001b[0m\u001b[0;34m\u001b[0m\u001b[0m\n",
      "\u001b[0;32m~/proj/virt-proj/metapack/metapack-dev/metapack/metapack/doc.py\u001b[0m in \u001b[0;36m__init__\u001b[0;34m(self, ref, decl, cache, resolver, package_url, clean_cache, downloader)\u001b[0m\n\u001b[1;32m     68\u001b[0m             \u001b[0msuper\u001b[0m\u001b[0;34m(\u001b[0m\u001b[0;34m)\u001b[0m\u001b[0;34m.\u001b[0m\u001b[0m__init__\u001b[0m\u001b[0;34m(\u001b[0m\u001b[0mref\u001b[0m\u001b[0;34m,\u001b[0m \u001b[0mdecl\u001b[0m\u001b[0;34m,\u001b[0m \u001b[0mpackage_url\u001b[0m\u001b[0;34m,\u001b[0m \u001b[0mcache\u001b[0m\u001b[0;34m,\u001b[0m \u001b[0mresolver\u001b[0m\u001b[0;34m,\u001b[0m \u001b[0mclean_cache\u001b[0m\u001b[0;34m)\u001b[0m\u001b[0;34m\u001b[0m\u001b[0m\n\u001b[1;32m     69\u001b[0m         \u001b[0;32mexcept\u001b[0m \u001b[0mRowGeneratorError\u001b[0m \u001b[0;32mas\u001b[0m \u001b[0me\u001b[0m\u001b[0;34m:\u001b[0m\u001b[0;34m\u001b[0m\u001b[0m\n\u001b[0;32m---> 70\u001b[0;31m             \u001b[0;32mraise\u001b[0m \u001b[0mMetatabFileNotFound\u001b[0m\u001b[0;34m(\u001b[0m\u001b[0;34m\"Failed to get Metatabfile for reference: '{}' \"\u001b[0m\u001b[0;34m.\u001b[0m\u001b[0mformat\u001b[0m\u001b[0;34m(\u001b[0m\u001b[0mref\u001b[0m\u001b[0;34m)\u001b[0m\u001b[0;34m)\u001b[0m\u001b[0;34m\u001b[0m\u001b[0m\n\u001b[0m\u001b[1;32m     71\u001b[0m \u001b[0;34m\u001b[0m\u001b[0m\n\u001b[1;32m     72\u001b[0m         \u001b[0mself\u001b[0m\u001b[0;34m.\u001b[0m\u001b[0mdefault_resource\u001b[0m \u001b[0;34m=\u001b[0m \u001b[0;32mNone\u001b[0m  \u001b[0;31m# Set externally in open_package when the URL has a resource.\u001b[0m\u001b[0;34m\u001b[0m\u001b[0m\n",
      "\u001b[0;31mMetatabFileNotFound\u001b[0m: Failed to get Metatabfile for reference: 'metapack+file:///Users/eric/proj/virt-proj/data-project/gis-projects/sandiegodata.org-parklands/_packages/sandiegodata.org-parklands-1/metadata.csv' "
     ]
    }
   ],
   "source": [
    "pkg = mp.jupyter.open_package()\n",
    "#pkg = mp.jupyter.open_source_package()\n",
    "pkg"
   ]
  },
  {
   "cell_type": "code",
   "execution_count": 4,
   "metadata": {},
   "outputs": [
    {
     "data": {
      "text/html": [
       "<div>\n",
       "<style scoped>\n",
       "    .dataframe tbody tr th:only-of-type {\n",
       "        vertical-align: middle;\n",
       "    }\n",
       "\n",
       "    .dataframe tbody tr th {\n",
       "        vertical-align: top;\n",
       "    }\n",
       "\n",
       "    .dataframe thead th {\n",
       "        text-align: right;\n",
       "    }\n",
       "</style>\n",
       "<table border=\"1\" class=\"dataframe\">\n",
       "  <thead>\n",
       "    <tr style=\"text-align: right;\">\n",
       "      <th></th>\n",
       "      <th>geoid</th>\n",
       "      <th>pop2010</th>\n",
       "      <th>pct2010gq</th>\n",
       "      <th>city</th>\n",
       "      <th>zip</th>\n",
       "      <th>county_fips</th>\n",
       "      <th>county_name</th>\n",
       "      <th>urbantype</th>\n",
       "      <th>hpi2score</th>\n",
       "      <th>hpi2_pctile_pos</th>\n",
       "      <th>...</th>\n",
       "      <th>leb_pctile</th>\n",
       "      <th>white_pct</th>\n",
       "      <th>black_pct</th>\n",
       "      <th>asian_pct</th>\n",
       "      <th>latino_pct</th>\n",
       "      <th>multiple_pct</th>\n",
       "      <th>nativeam_pct</th>\n",
       "      <th>pacificisl_pct</th>\n",
       "      <th>other_pct</th>\n",
       "      <th>version</th>\n",
       "    </tr>\n",
       "  </thead>\n",
       "  <tbody>\n",
       "    <tr>\n",
       "      <th>0</th>\n",
       "      <td>14000US6001400100000000000</td>\n",
       "      <td>2937</td>\n",
       "      <td>0.1</td>\n",
       "      <td>Oakland</td>\n",
       "      <td>94704.0</td>\n",
       "      <td>6001</td>\n",
       "      <td>Alameda</td>\n",
       "      <td>urban_area</td>\n",
       "      <td>1.182028</td>\n",
       "      <td>99.114590</td>\n",
       "      <td>...</td>\n",
       "      <td>96.663673</td>\n",
       "      <td>71.605789</td>\n",
       "      <td>4.824259</td>\n",
       "      <td>15.713301</td>\n",
       "      <td>4.031702</td>\n",
       "      <td>3.824948</td>\n",
       "      <td>0.0</td>\n",
       "      <td>0.0</td>\n",
       "      <td>0</td>\n",
       "      <td>Wed13Dec17</td>\n",
       "    </tr>\n",
       "    <tr>\n",
       "      <th>1</th>\n",
       "      <td>14000US6001400200000000000</td>\n",
       "      <td>1974</td>\n",
       "      <td>3.5</td>\n",
       "      <td>Oakland</td>\n",
       "      <td>94618.0</td>\n",
       "      <td>6001</td>\n",
       "      <td>Alameda</td>\n",
       "      <td>urban_area</td>\n",
       "      <td>1.325874</td>\n",
       "      <td>99.704863</td>\n",
       "      <td>...</td>\n",
       "      <td>96.612344</td>\n",
       "      <td>83.884970</td>\n",
       "      <td>0.000000</td>\n",
       "      <td>7.921867</td>\n",
       "      <td>8.193163</td>\n",
       "      <td>0.000000</td>\n",
       "      <td>0.0</td>\n",
       "      <td>0.0</td>\n",
       "      <td>0</td>\n",
       "      <td>Wed13Dec17</td>\n",
       "    </tr>\n",
       "    <tr>\n",
       "      <th>2</th>\n",
       "      <td>14000US6001400300000000000</td>\n",
       "      <td>4865</td>\n",
       "      <td>0.8</td>\n",
       "      <td>Oakland</td>\n",
       "      <td>94618.0</td>\n",
       "      <td>6001</td>\n",
       "      <td>Alameda</td>\n",
       "      <td>urban_area</td>\n",
       "      <td>0.925666</td>\n",
       "      <td>95.932247</td>\n",
       "      <td>...</td>\n",
       "      <td>95.136661</td>\n",
       "      <td>67.384106</td>\n",
       "      <td>10.596026</td>\n",
       "      <td>8.671358</td>\n",
       "      <td>8.257450</td>\n",
       "      <td>5.091060</td>\n",
       "      <td>0.0</td>\n",
       "      <td>0.0</td>\n",
       "      <td>0</td>\n",
       "      <td>Wed13Dec17</td>\n",
       "    </tr>\n",
       "    <tr>\n",
       "      <th>3</th>\n",
       "      <td>14000US6001400400000000000</td>\n",
       "      <td>3703</td>\n",
       "      <td>0.9</td>\n",
       "      <td>Oakland</td>\n",
       "      <td>94609.0</td>\n",
       "      <td>6001</td>\n",
       "      <td>Alameda</td>\n",
       "      <td>urban_area</td>\n",
       "      <td>1.117603</td>\n",
       "      <td>98.537149</td>\n",
       "      <td>...</td>\n",
       "      <td>68.959322</td>\n",
       "      <td>66.031054</td>\n",
       "      <td>12.203759</td>\n",
       "      <td>7.354944</td>\n",
       "      <td>9.043857</td>\n",
       "      <td>5.366385</td>\n",
       "      <td>0.0</td>\n",
       "      <td>0.0</td>\n",
       "      <td>0</td>\n",
       "      <td>Wed13Dec17</td>\n",
       "    </tr>\n",
       "    <tr>\n",
       "      <th>4</th>\n",
       "      <td>14000US6001400500000000000</td>\n",
       "      <td>3517</td>\n",
       "      <td>3.6</td>\n",
       "      <td>Oakland</td>\n",
       "      <td>94609.0</td>\n",
       "      <td>6001</td>\n",
       "      <td>Alameda</td>\n",
       "      <td>urban_area</td>\n",
       "      <td>0.562799</td>\n",
       "      <td>83.318363</td>\n",
       "      <td>...</td>\n",
       "      <td>38.855383</td>\n",
       "      <td>51.180196</td>\n",
       "      <td>26.856649</td>\n",
       "      <td>5.987334</td>\n",
       "      <td>9.786989</td>\n",
       "      <td>6.188831</td>\n",
       "      <td>0.0</td>\n",
       "      <td>0.0</td>\n",
       "      <td>0</td>\n",
       "      <td>Wed13Dec17</td>\n",
       "    </tr>\n",
       "  </tbody>\n",
       "</table>\n",
       "<p>5 rows × 91 columns</p>\n",
       "</div>"
      ],
      "text/plain": [
       "                        geoid  pop2010  pct2010gq     city      zip  \\\n",
       "0  14000US6001400100000000000     2937        0.1  Oakland  94704.0   \n",
       "1  14000US6001400200000000000     1974        3.5  Oakland  94618.0   \n",
       "2  14000US6001400300000000000     4865        0.8  Oakland  94618.0   \n",
       "3  14000US6001400400000000000     3703        0.9  Oakland  94609.0   \n",
       "4  14000US6001400500000000000     3517        3.6  Oakland  94609.0   \n",
       "\n",
       "   county_fips county_name   urbantype  hpi2score  hpi2_pctile_pos  \\\n",
       "0         6001     Alameda  urban_area   1.182028        99.114590   \n",
       "1         6001     Alameda  urban_area   1.325874        99.704863   \n",
       "2         6001     Alameda  urban_area   0.925666        95.932247   \n",
       "3         6001     Alameda  urban_area   1.117603        98.537149   \n",
       "4         6001     Alameda  urban_area   0.562799        83.318363   \n",
       "\n",
       "      ...      leb_pctile  white_pct  black_pct  asian_pct  latino_pct  \\\n",
       "0     ...       96.663673  71.605789   4.824259  15.713301    4.031702   \n",
       "1     ...       96.612344  83.884970   0.000000   7.921867    8.193163   \n",
       "2     ...       95.136661  67.384106  10.596026   8.671358    8.257450   \n",
       "3     ...       68.959322  66.031054  12.203759   7.354944    9.043857   \n",
       "4     ...       38.855383  51.180196  26.856649   5.987334    9.786989   \n",
       "\n",
       "   multiple_pct  nativeam_pct  pacificisl_pct  other_pct     version  \n",
       "0      3.824948           0.0             0.0          0  Wed13Dec17  \n",
       "1      0.000000           0.0             0.0          0  Wed13Dec17  \n",
       "2      5.091060           0.0             0.0          0  Wed13Dec17  \n",
       "3      5.366385           0.0             0.0          0  Wed13Dec17  \n",
       "4      6.188831           0.0             0.0          0  Wed13Dec17  \n",
       "\n",
       "[5 rows x 91 columns]"
      ]
     },
     "execution_count": 4,
     "metadata": {},
     "output_type": "execute_result"
    }
   ],
   "source": [
    "hpi = pkg.reference('hpi').dataframe()\n",
    "hpi.head()"
   ]
  },
  {
   "cell_type": "code",
   "execution_count": null,
   "metadata": {},
   "outputs": [],
   "source": []
  },
  {
   "cell_type": "code",
   "execution_count": null,
   "metadata": {
    "epilog": true,
    "mt_dataframes": true
   },
   "outputs": [],
   "source": [
    "%mt_materialize hpi '/Users/eric/Library/Application Support/metapack/_materialized_data/sandiegodata.org-parklands-1' "
   ]
  },
  {
   "cell_type": "code",
   "execution_count": null,
   "metadata": {
    "epilog": true,
    "mt_materialize": true
   },
   "outputs": [],
   "source": [
    "\n",
    "%mt_materialize_all '/Users/eric/Library/Application Support/metapack/_materialized_data/sandiegodata.org-parklands-1'\n"
   ]
  },
  {
   "cell_type": "code",
   "execution_count": null,
   "metadata": {
    "epilog": true,
    "mt_final_metatab": true
   },
   "outputs": [],
   "source": [
    "\n",
    "%mt_show_metatab\n",
    "\n"
   ]
  },
  {
   "cell_type": "code",
   "execution_count": null,
   "metadata": {
    "epilog": true,
    "mt_show_libdirs": true
   },
   "outputs": [],
   "source": [
    "\n",
    "%mt_show_libdirs\n",
    "\n"
   ]
  }
 ],
 "metadata": {
  "kernelspec": {
   "display_name": "Python 3",
   "language": "python",
   "name": "python3"
  },
  "language_info": {
   "codemirror_mode": {
    "name": "ipython",
    "version": 3
   },
   "file_extension": ".py",
   "mimetype": "text/x-python",
   "name": "python",
   "nbconvert_exporter": "python",
   "pygments_lexer": "ipython3",
   "version": "3.6.0"
  }
 },
 "nbformat": 4,
 "nbformat_minor": 2
}
